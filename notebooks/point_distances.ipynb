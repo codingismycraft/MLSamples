{
 "cells": [
  {
   "cell_type": "markdown",
   "id": "097ed6da",
   "metadata": {},
   "source": [
    "# Trivial example of a supervised model."
   ]
  },
  {
   "cell_type": "code",
   "execution_count": 122,
   "id": "995c6fe9",
   "metadata": {},
   "outputs": [
    {
     "name": "stdout",
     "output_type": "stream",
     "text": [
      "The autoreload extension is already loaded. To reload it, use:\n",
      "  %reload_ext autoreload\n"
     ]
    }
   ],
   "source": [
    "%load_ext autoreload\n",
    "%autoreload 2\n",
    "import math\n",
    "import random\n",
    "\n",
    "import pandas as pd\n",
    "from IPython.display import Markdown, display\n",
    "from sklearn.model_selection import train_test_split\n",
    "from sklearn.preprocessing import MinMaxScaler\n",
    "import matplotlib.pyplot as plt\n",
    "import sklearn.metrics\n",
    "import numpy as np\n",
    "import seaborn as sns\n",
    "import tensorflow as tf\n",
    "import tensorflow.keras as keras\n",
    "%reload_ext autoreload\n"
   ]
  },
  {
   "cell_type": "markdown",
   "id": "266e3aae",
   "metadata": {},
   "source": [
    "## Problem description\n",
    "We have a data set consisting of five columns of float and all we know is that the first four numbers are measurements that result to the fifth one; our objective is to see if we can somehow guess the fifth when knowing the the others.\n"
   ]
  },
  {
   "attachments": {
    "CodeCogsEqn%20%281%29.gif": {
     "image/gif": "[encoded data removed]"
    }
   },
   "cell_type": "markdown",
   "id": "3343c303",
   "metadata": {},
   "source": [
    "### Our objective\n",
    "\n",
    "We will try to find out if we can use the input that consists of the values v1, v2, v3, v4 to calculate the target.\n",
    "\n",
    "Essentially we can think that we are trying to discover a model like the following:\n",
    "\n",
    "![CodeCogsEqn%20%281%29.gif](attachment:CodeCogsEqn%20%281%29.gif)\n",
    "\n",
    "### Estimating the accuracy of the model\n",
    "\n",
    "One question we need to answer when given a model like the one above, is to estimate how well it works. One way to do so would be to try it in data that were neven seen during the model creation and estimate the cummulative error that we are getting when applying it.\n",
    "\n",
    "\n",
    "For our example, the error metric that we will use is called **Mean Squared Error** and we will reuse its **sklearn** implemenation. A quick definition of **Mean Squared Error** (MSE) is that it expresses the average of the squares of the errors and the lower it is the better our prediction.\n",
    "\n",
    "### Data separation\n",
    "\n",
    "To be able to accurately estimate the validity of our model, we start by spliting the full universe of the data into to two parts, one will be used to **train** our modeld ang the the other to **test** it using the **MSE** metric.  To split the data we will use the **train_test_split** function of **sklearn**. \n",
    "\n",
    "Another name that we can use for the inputs to the model is **features** while the output of the model can also be called **targets**.\n"
   ]
  },
  {
   "cell_type": "code",
   "execution_count": 50,
   "id": "53feb312",
   "metadata": {},
   "outputs": [],
   "source": [
    "# Utilities.\n",
    "def plot_history(history):\n",
    "    plt.clf()\n",
    "    min_value, max_value = 1000, 0\n",
    "    for key in history.history.keys():\n",
    "        plt.plot(history.history[key], label=key)\n",
    "        min_value = min(min_value, min(history.history[key]))\n",
    "        max_value = max(max_value, max(history.history[key]))\n",
    "    #plt.ylim([min_value, max_value])\n",
    "    plt.ylim([0, max_value])\n",
    "    plt.xlabel('Epoch')\n",
    "    plt.ylabel('Error')\n",
    "    plt.legend()\n",
    "    plt.grid(True)\n"
   ]
  },
  {
   "cell_type": "code",
   "execution_count": 130,
   "id": "f10de7b7",
   "metadata": {},
   "outputs": [
    {
     "data": {
      "text/html": [
       "<div>\n",
       "<style scoped>\n",
       "    .dataframe tbody tr th:only-of-type {\n",
       "        vertical-align: middle;\n",
       "    }\n",
       "\n",
       "    .dataframe tbody tr th {\n",
       "        vertical-align: top;\n",
       "    }\n",
       "\n",
       "    .dataframe thead th {\n",
       "        text-align: right;\n",
       "    }\n",
       "</style>\n",
       "<table border=\"1\" class=\"dataframe\">\n",
       "  <thead>\n",
       "    <tr style=\"text-align: right;\">\n",
       "      <th></th>\n",
       "      <th>v1</th>\n",
       "      <th>v2</th>\n",
       "      <th>v3</th>\n",
       "      <th>v4</th>\n",
       "      <th>target</th>\n",
       "    </tr>\n",
       "  </thead>\n",
       "  <tbody>\n",
       "    <tr>\n",
       "      <th>0</th>\n",
       "      <td>13.871156</td>\n",
       "      <td>70.744302</td>\n",
       "      <td>9.056146</td>\n",
       "      <td>14.037727</td>\n",
       "      <td>56.910631</td>\n",
       "    </tr>\n",
       "    <tr>\n",
       "      <th>1</th>\n",
       "      <td>76.159438</td>\n",
       "      <td>61.001330</td>\n",
       "      <td>16.374717</td>\n",
       "      <td>53.701238</td>\n",
       "      <td>60.228766</td>\n",
       "    </tr>\n",
       "    <tr>\n",
       "      <th>2</th>\n",
       "      <td>12.023961</td>\n",
       "      <td>16.364263</td>\n",
       "      <td>95.972164</td>\n",
       "      <td>30.898488</td>\n",
       "      <td>85.197092</td>\n",
       "    </tr>\n",
       "    <tr>\n",
       "      <th>3</th>\n",
       "      <td>59.318865</td>\n",
       "      <td>70.215681</td>\n",
       "      <td>89.355463</td>\n",
       "      <td>14.395969</td>\n",
       "      <td>63.387992</td>\n",
       "    </tr>\n",
       "    <tr>\n",
       "      <th>4</th>\n",
       "      <td>85.270815</td>\n",
       "      <td>42.369717</td>\n",
       "      <td>0.294042</td>\n",
       "      <td>29.457914</td>\n",
       "      <td>85.952118</td>\n",
       "    </tr>\n",
       "    <tr>\n",
       "      <th>...</th>\n",
       "      <td>...</td>\n",
       "      <td>...</td>\n",
       "      <td>...</td>\n",
       "      <td>...</td>\n",
       "      <td>...</td>\n",
       "    </tr>\n",
       "    <tr>\n",
       "      <th>9995</th>\n",
       "      <td>55.603956</td>\n",
       "      <td>86.424943</td>\n",
       "      <td>45.289957</td>\n",
       "      <td>3.244558</td>\n",
       "      <td>83.817392</td>\n",
       "    </tr>\n",
       "    <tr>\n",
       "      <th>9996</th>\n",
       "      <td>99.696557</td>\n",
       "      <td>48.697339</td>\n",
       "      <td>80.502594</td>\n",
       "      <td>63.341876</td>\n",
       "      <td>24.142715</td>\n",
       "    </tr>\n",
       "    <tr>\n",
       "      <th>9997</th>\n",
       "      <td>55.560965</td>\n",
       "      <td>95.482287</td>\n",
       "      <td>29.010972</td>\n",
       "      <td>17.817943</td>\n",
       "      <td>82.077113</td>\n",
       "    </tr>\n",
       "    <tr>\n",
       "      <th>9998</th>\n",
       "      <td>81.471479</td>\n",
       "      <td>85.303090</td>\n",
       "      <td>37.213704</td>\n",
       "      <td>30.477429</td>\n",
       "      <td>70.459945</td>\n",
       "    </tr>\n",
       "    <tr>\n",
       "      <th>9999</th>\n",
       "      <td>98.010103</td>\n",
       "      <td>70.126000</td>\n",
       "      <td>29.764205</td>\n",
       "      <td>77.763071</td>\n",
       "      <td>68.671883</td>\n",
       "    </tr>\n",
       "  </tbody>\n",
       "</table>\n",
       "<p>10000 rows × 5 columns</p>\n",
       "</div>"
      ],
      "text/plain": [
       "             v1         v2         v3         v4     target\n",
       "0     13.871156  70.744302   9.056146  14.037727  56.910631\n",
       "1     76.159438  61.001330  16.374717  53.701238  60.228766\n",
       "2     12.023961  16.364263  95.972164  30.898488  85.197092\n",
       "3     59.318865  70.215681  89.355463  14.395969  63.387992\n",
       "4     85.270815  42.369717   0.294042  29.457914  85.952118\n",
       "...         ...        ...        ...        ...        ...\n",
       "9995  55.603956  86.424943  45.289957   3.244558  83.817392\n",
       "9996  99.696557  48.697339  80.502594  63.341876  24.142715\n",
       "9997  55.560965  95.482287  29.010972  17.817943  82.077113\n",
       "9998  81.471479  85.303090  37.213704  30.477429  70.459945\n",
       "9999  98.010103  70.126000  29.764205  77.763071  68.671883\n",
       "\n",
       "[10000 rows x 5 columns]"
      ]
     },
     "execution_count": 130,
     "metadata": {},
     "output_type": "execute_result"
    }
   ],
   "source": [
    "# Let's assume that the data are stored in a file called my_data.csv\n",
    "data = pd.read_csv(\"../data/my_data.csv\")\n",
    "data\n"
   ]
  },
  {
   "cell_type": "code",
   "execution_count": 131,
   "id": "22a41ab6",
   "metadata": {},
   "outputs": [
    {
     "name": "stdout",
     "output_type": "stream",
     "text": [
      "MSE: 0.10514217050960982\n"
     ]
    },
    {
     "data": {
      "image/png": "[encoded data removed]",
      "text/plain": [
       "<Figure size 432x288 with 1 Axes>"
      ]
     },
     "metadata": {
      "needs_background": "light"
     },
     "output_type": "display_data"
    },
    {
     "data": {
      "image/png": "[encoded data removed]",
      "text/plain": [
       "<Figure size 180x180 with 1 Axes>"
      ]
     },
     "metadata": {
      "needs_background": "light"
     },
     "output_type": "display_data"
    }
   ],
   "source": [
    "# Separate features and targets.\n",
    "features = data.copy()\n",
    "targets = pd.DataFrame(features.pop(\"target\"))\n",
    "\n",
    "# Split the data into training and testing subsets (20%).\n",
    "X_train,X_test,y_train,y_test = train_test_split(features,targets,test_size=0.2)\n",
    "\n",
    "# Create the necessary scalers.\n",
    "x_scaler = MinMaxScaler()\n",
    "x_scaler.fit(X_train)\n",
    "\n",
    "y_scaler = MinMaxScaler()\n",
    "y_scaler.fit(y_train)\n",
    "\n",
    "# Scale the X_train.\n",
    "scaled_x_train = pd.DataFrame(x_scaler.transform(X_train), columns=X_train.columns)\n",
    "\n",
    "# Scale the Ytrain.\n",
    "scaled_y_train = pd.DataFrame(y_scaler.transform(y_train), columns=y_train.columns)\n",
    "\n",
    "# Build the model.\n",
    "FEATURE_COUNT = len(X_train.columns)\n",
    "\n",
    "model = keras.Sequential()\n",
    "model.add(keras.layers.Dense(100, activation='relu', input_shape=(FEATURE_COUNT,)))\n",
    "model.add(keras.layers.Dense(100, activation='relu'))\n",
    "model.add(keras.layers.Dense(10, activation='relu'))\n",
    "model.add(keras.layers.Dense(1))\n",
    "\n",
    "model.compile(\n",
    "    loss='mean_squared_error',        \n",
    "    optimizer=tf.keras.optimizers.Adam(0.001)\n",
    ")\n",
    "\n",
    "# Train the model.\n",
    "history = model.fit(\n",
    "    scaled_x_train, scaled_y_train,\n",
    "    batch_size=130,\n",
    "    validation_split=0.2,\n",
    "    shuffle=True, \n",
    "    verbose=0, epochs=25)\n",
    "\n",
    "# Show the traing progress.\n",
    "plot_history(history)\n",
    "\n",
    "# Scale the Ytrain.\n",
    "scaled_x_test = pd.DataFrame(x_scaler.transform(X_test), columns=X_test.columns)\n",
    "\n",
    "# Make predictions.\n",
    "predictions = model.predict(scaled_x_test)\n",
    "\n",
    "# Inverse the predictions back to real values.\n",
    "p = y_scaler.inverse_transform(predictions)\n",
    "preds = pd.DataFrame(p, columns=['predicted'])\n",
    "\n",
    "# Add the real target.\n",
    "preds['targets'] = y_test.target.values\n",
    "\n",
    "mean_squared_error = sklearn.metrics.mean_squared_error\n",
    "preds['diff'] = preds.predicted - preds.targets\n",
    "\n",
    "mse = mean_squared_error(preds.predicted, preds.targets)\n",
    "print(f'MSE: {mse}')\n",
    "\n",
    "_ = sns.pairplot(data=preds, y_vars=['predicted'], x_vars=['targets'])"
   ]
  },
  {
   "cell_type": "code",
   "execution_count": 132,
   "id": "c02190e2",
   "metadata": {},
   "outputs": [
    {
     "data": {
      "text/html": [
       "<div>\n",
       "<style scoped>\n",
       "    .dataframe tbody tr th:only-of-type {\n",
       "        vertical-align: middle;\n",
       "    }\n",
       "\n",
       "    .dataframe tbody tr th {\n",
       "        vertical-align: top;\n",
       "    }\n",
       "\n",
       "    .dataframe thead th {\n",
       "        text-align: right;\n",
       "    }\n",
       "</style>\n",
       "<table border=\"1\" class=\"dataframe\">\n",
       "  <thead>\n",
       "    <tr style=\"text-align: right;\">\n",
       "      <th></th>\n",
       "      <th>predicted</th>\n",
       "      <th>targets</th>\n",
       "      <th>diff</th>\n",
       "    </tr>\n",
       "  </thead>\n",
       "  <tbody>\n",
       "    <tr>\n",
       "      <th>0</th>\n",
       "      <td>32.999935</td>\n",
       "      <td>32.974591</td>\n",
       "      <td>0.025344</td>\n",
       "    </tr>\n",
       "    <tr>\n",
       "      <th>1</th>\n",
       "      <td>22.473228</td>\n",
       "      <td>22.040388</td>\n",
       "      <td>0.432840</td>\n",
       "    </tr>\n",
       "    <tr>\n",
       "      <th>2</th>\n",
       "      <td>14.715736</td>\n",
       "      <td>14.379971</td>\n",
       "      <td>0.335766</td>\n",
       "    </tr>\n",
       "    <tr>\n",
       "      <th>3</th>\n",
       "      <td>53.107300</td>\n",
       "      <td>53.291976</td>\n",
       "      <td>-0.184676</td>\n",
       "    </tr>\n",
       "    <tr>\n",
       "      <th>4</th>\n",
       "      <td>65.223213</td>\n",
       "      <td>64.693594</td>\n",
       "      <td>0.529619</td>\n",
       "    </tr>\n",
       "    <tr>\n",
       "      <th>...</th>\n",
       "      <td>...</td>\n",
       "      <td>...</td>\n",
       "      <td>...</td>\n",
       "    </tr>\n",
       "    <tr>\n",
       "      <th>1995</th>\n",
       "      <td>54.387417</td>\n",
       "      <td>54.095411</td>\n",
       "      <td>0.292006</td>\n",
       "    </tr>\n",
       "    <tr>\n",
       "      <th>1996</th>\n",
       "      <td>54.221970</td>\n",
       "      <td>54.005282</td>\n",
       "      <td>0.216688</td>\n",
       "    </tr>\n",
       "    <tr>\n",
       "      <th>1997</th>\n",
       "      <td>64.744698</td>\n",
       "      <td>65.167070</td>\n",
       "      <td>-0.422373</td>\n",
       "    </tr>\n",
       "    <tr>\n",
       "      <th>1998</th>\n",
       "      <td>59.387814</td>\n",
       "      <td>59.276800</td>\n",
       "      <td>0.111013</td>\n",
       "    </tr>\n",
       "    <tr>\n",
       "      <th>1999</th>\n",
       "      <td>67.772385</td>\n",
       "      <td>67.767230</td>\n",
       "      <td>0.005155</td>\n",
       "    </tr>\n",
       "  </tbody>\n",
       "</table>\n",
       "<p>2000 rows × 3 columns</p>\n",
       "</div>"
      ],
      "text/plain": [
       "      predicted    targets      diff\n",
       "0     32.999935  32.974591  0.025344\n",
       "1     22.473228  22.040388  0.432840\n",
       "2     14.715736  14.379971  0.335766\n",
       "3     53.107300  53.291976 -0.184676\n",
       "4     65.223213  64.693594  0.529619\n",
       "...         ...        ...       ...\n",
       "1995  54.387417  54.095411  0.292006\n",
       "1996  54.221970  54.005282  0.216688\n",
       "1997  64.744698  65.167070 -0.422373\n",
       "1998  59.387814  59.276800  0.111013\n",
       "1999  67.772385  67.767230  0.005155\n",
       "\n",
       "[2000 rows x 3 columns]"
      ]
     },
     "execution_count": 132,
     "metadata": {},
     "output_type": "execute_result"
    }
   ],
   "source": [
    "preds"
   ]
  },
  {
   "attachments": {
    "distance-between-two-points.png": {
     "image/png": "[encoded data removed]"
    }
   },
   "cell_type": "markdown",
   "id": "40ba197e",
   "metadata": {},
   "source": [
    "## Manual verification\n",
    "\n",
    "The **my_data.csv** dataset represent the distances between random points in the plane where x <= 100 and y < 100. \n",
    "\n",
    "So, the following input data:\n",
    "\n",
    "\n",
    "| v1| v2| v3  | v4  | t  |\n",
    "|--:|--:|---|---|---|\n",
    "|30.796   |56.226   |43.620   |18.7064   | 39.650  |\n",
    "\n",
    "can be expressed as the following object:\n",
    "\n",
    "```\n",
    "{\n",
    "   'x1': 30.796,\n",
    "   'y1': 56.226,\n",
    "   'x2': 43.620,\n",
    "   'y2': 18.7064,\n",
    "   'distance' : 39.650\n",
    "}\n",
    "```\n",
    "\n",
    "or in geometrical representation:\n",
    "\n",
    "![distance-between-two-points.png](attachment:distance-between-two-points.png)"
   ]
  },
  {
   "attachments": {
    "dist-formula.gif": {
     "image/gif": "[encoded data removed]"
    }
   },
   "cell_type": "markdown",
   "id": "d1fc2f20",
   "metadata": {},
   "source": [
    "And the distance **d** is given by the following formula:\n",
    "\n",
    "![dist-formula.gif](attachment:dist-formula.gif)\n",
    "\n",
    "Let's write a simple function to validate the distance while using the model we've build above."
   ]
  },
  {
   "cell_type": "code",
   "execution_count": 133,
   "id": "1a73d4f4",
   "metadata": {},
   "outputs": [
    {
     "name": "stdout",
     "output_type": "stream",
     "text": [
      "real distance  ......:      86.57\n",
      "estimated distance ..:      86.37\n"
     ]
    }
   ],
   "source": [
    "# x1 = float(input(\"x1: \"))\n",
    "# y1 = float(input(\"y1: \"))\n",
    "# x2 = float(input(\"x2: \"))\n",
    "# y2 = float(input(\"y2: \"))\n",
    "\n",
    "x1= random.uniform(0.1,99.0)\n",
    "y1= random.uniform(0.1,99.0)\n",
    "x2= random.uniform(0.1,99.0)\n",
    "y2= random.uniform(0.1,99.0)\n",
    "\n",
    "real_distance = math.sqrt((x1 - x2) ** 2 + (y1 - y2) ** 2)\n",
    "\n",
    "# Scale the Ytrain.\n",
    "features = pd.DataFrame(x_scaler.transform([ [x1, y1, x2, y2]  ]), columns=X_test.columns)\n",
    "\n",
    "# Make predictions.\n",
    "predictions = model.predict(features)\n",
    "estimated_distance = y_scaler.inverse_transform(predictions)[0][0]\n",
    "\n",
    "print(f\"real distance  ......: {real_distance:10.4}\")\n",
    "print(f\"estimated distance ..: {estimated_distance:10.4}\")\n"
   ]
  },
  {
   "cell_type": "markdown",
   "id": "a85dd2bf",
   "metadata": {},
   "source": [
    "# Conclusion\n",
    "\n",
    "* A supervised model receives a universe of input data and their expected results. \n",
    "* The data are split in training and testing subsets. \n",
    "* We create and train the model having as objective to minimize the error in unseen data.\n",
    "\n",
    "\n"
   ]
  }
 ],
 "metadata": {
  "kernelspec": {
   "display_name": "Python 3 (ipykernel)",
   "language": "python",
   "name": "python3"
  },
  "language_info": {
   "codemirror_mode": {
    "name": "ipython",
    "version": 3
   },
   "file_extension": ".py",
   "mimetype": "text/x-python",
   "name": "python",
   "nbconvert_exporter": "python",
   "pygments_lexer": "ipython3",
   "version": "3.8.10"
  }
 },
 "nbformat": 4,
 "nbformat_minor": 5
}
